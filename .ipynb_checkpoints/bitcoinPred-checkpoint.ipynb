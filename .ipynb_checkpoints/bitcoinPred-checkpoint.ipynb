{
 "cells": [
  {
   "cell_type": "markdown",
   "metadata": {},
   "source": [
    "# Bitcoin Price Prediction"
   ]
  },
  {
   "cell_type": "markdown",
   "metadata": {},
   "source": [
    "### DataSet \n",
    "\n",
    "Both bitcoin data and ethereum data is pulled from \n",
    "[coinmarketcap.com](https://coinmarketcap.com)."
   ]
  },
  {
   "cell_type": "markdown",
   "metadata": {},
   "source": [
    "#### Algorithms Experimented \n",
    "1. Simple 1D Linear Equation --> Miserably fails\n",
    "2. Simple Lag Model -->    prediction contrained to just one day in future : Not useful\n",
    "3. Extending Autoagressive Model using LSTM Neural Network : Very good accuracy"
   ]
  },
  {
   "cell_type": "markdown",
   "metadata": {},
   "source": [
    " ##### Importing required packages"
   ]
  },
  {
   "cell_type": "code",
   "execution_count": 58,
   "metadata": {},
   "outputs": [],
   "source": [
    "import pandas as pd\n",
    "import time\n",
    "import seaborn as sns\n",
    "import matplotlib.pyplot as plt\n",
    "import datetime\n",
    "import numpy as np"
   ]
  },
  {
   "cell_type": "markdown",
   "metadata": {},
   "source": [
    "##### Preprocessing the dataset"
   ]
  },
  {
   "cell_type": "code",
   "execution_count": 59,
   "metadata": {
    "scrolled": true
   },
   "outputs": [
    {
     "data": {
      "text/html": [
       "<div>\n",
       "<style scoped>\n",
       "    .dataframe tbody tr th:only-of-type {\n",
       "        vertical-align: middle;\n",
       "    }\n",
       "\n",
       "    .dataframe tbody tr th {\n",
       "        vertical-align: top;\n",
       "    }\n",
       "\n",
       "    .dataframe thead th {\n",
       "        text-align: right;\n",
       "    }\n",
       "</style>\n",
       "<table border=\"1\" class=\"dataframe\">\n",
       "  <thead>\n",
       "    <tr style=\"text-align: right;\">\n",
       "      <th></th>\n",
       "      <th>Date</th>\n",
       "      <th>Open</th>\n",
       "      <th>High</th>\n",
       "      <th>Low</th>\n",
       "      <th>Close</th>\n",
       "      <th>Volume</th>\n",
       "      <th>Market Cap</th>\n",
       "    </tr>\n",
       "  </thead>\n",
       "  <tbody>\n",
       "    <tr>\n",
       "      <th>0</th>\n",
       "      <td>2018-04-04</td>\n",
       "      <td>7456.41</td>\n",
       "      <td>7469.88</td>\n",
       "      <td>6803.88</td>\n",
       "      <td>6853.84</td>\n",
       "      <td>4936000000</td>\n",
       "      <td>126434000000</td>\n",
       "    </tr>\n",
       "    <tr>\n",
       "      <th>1</th>\n",
       "      <td>2018-04-03</td>\n",
       "      <td>7102.26</td>\n",
       "      <td>7530.94</td>\n",
       "      <td>7072.49</td>\n",
       "      <td>7456.11</td>\n",
       "      <td>5499700000</td>\n",
       "      <td>120415000000</td>\n",
       "    </tr>\n",
       "    <tr>\n",
       "      <th>2</th>\n",
       "      <td>2018-04-02</td>\n",
       "      <td>6844.86</td>\n",
       "      <td>7135.47</td>\n",
       "      <td>6816.58</td>\n",
       "      <td>7083.80</td>\n",
       "      <td>4333440000</td>\n",
       "      <td>116037000000</td>\n",
       "    </tr>\n",
       "    <tr>\n",
       "      <th>3</th>\n",
       "      <td>2018-04-01</td>\n",
       "      <td>7003.06</td>\n",
       "      <td>7060.95</td>\n",
       "      <td>6526.87</td>\n",
       "      <td>6844.23</td>\n",
       "      <td>4532100000</td>\n",
       "      <td>118705000000</td>\n",
       "    </tr>\n",
       "    <tr>\n",
       "      <th>4</th>\n",
       "      <td>2018-03-31</td>\n",
       "      <td>6892.48</td>\n",
       "      <td>7207.85</td>\n",
       "      <td>6863.52</td>\n",
       "      <td>6973.53</td>\n",
       "      <td>4553270000</td>\n",
       "      <td>116820000000</td>\n",
       "    </tr>\n",
       "  </tbody>\n",
       "</table>\n",
       "</div>"
      ],
      "text/plain": [
       "        Date     Open     High      Low    Close      Volume    Market Cap\n",
       "0 2018-04-04  7456.41  7469.88  6803.88  6853.84  4936000000  126434000000\n",
       "1 2018-04-03  7102.26  7530.94  7072.49  7456.11  5499700000  120415000000\n",
       "2 2018-04-02  6844.86  7135.47  6816.58  7083.80  4333440000  116037000000\n",
       "3 2018-04-01  7003.06  7060.95  6526.87  6844.23  4532100000  118705000000\n",
       "4 2018-03-31  6892.48  7207.85  6863.52  6973.53  4553270000  116820000000"
      ]
     },
     "execution_count": 59,
     "metadata": {},
     "output_type": "execute_result"
    }
   ],
   "source": [
    "\n",
    "# get market info for bitcoin from the start of 2016 to the current day\n",
    "bitcoin_market_info = pd.read_html(\"https://coinmarketcap.com/currencies/bitcoin/historical-data/?start=20130428&end=\"+time.strftime(\"%Y%m%d\"))[0]\n",
    "# convert the date string to the correct date format\n",
    "bitcoin_market_info = bitcoin_market_info.assign(Date=pd.to_datetime(bitcoin_market_info['Date']))\n",
    "# when Volume is equal to '-' convert it to 0\n",
    "bitcoin_market_info.loc[bitcoin_market_info['Volume']==\"-\",'Volume']=0\n",
    "# convert to int\n",
    "bitcoin_market_info['Volume'] = bitcoin_market_info['Volume'].astype('int64')\n",
    "# look at the first few rows\n",
    "bitcoin_market_info.head()"
   ]
  },
  {
   "cell_type": "code",
   "execution_count": 60,
   "metadata": {},
   "outputs": [
    {
     "data": {
      "text/html": [
       "<div>\n",
       "<style scoped>\n",
       "    .dataframe tbody tr th:only-of-type {\n",
       "        vertical-align: middle;\n",
       "    }\n",
       "\n",
       "    .dataframe tbody tr th {\n",
       "        vertical-align: top;\n",
       "    }\n",
       "\n",
       "    .dataframe thead th {\n",
       "        text-align: right;\n",
       "    }\n",
       "</style>\n",
       "<table border=\"1\" class=\"dataframe\">\n",
       "  <thead>\n",
       "    <tr style=\"text-align: right;\">\n",
       "      <th></th>\n",
       "      <th>Date</th>\n",
       "      <th>Open</th>\n",
       "      <th>High</th>\n",
       "      <th>Low</th>\n",
       "      <th>Close</th>\n",
       "      <th>Volume</th>\n",
       "      <th>Market Cap</th>\n",
       "    </tr>\n",
       "  </thead>\n",
       "  <tbody>\n",
       "    <tr>\n",
       "      <th>0</th>\n",
       "      <td>2018-04-04</td>\n",
       "      <td>416.49</td>\n",
       "      <td>417.47</td>\n",
       "      <td>375.31</td>\n",
       "      <td>380.54</td>\n",
       "      <td>1287730000</td>\n",
       "      <td>41065100000</td>\n",
       "    </tr>\n",
       "    <tr>\n",
       "      <th>1</th>\n",
       "      <td>2018-04-03</td>\n",
       "      <td>387.31</td>\n",
       "      <td>418.97</td>\n",
       "      <td>383.53</td>\n",
       "      <td>416.89</td>\n",
       "      <td>1363400000</td>\n",
       "      <td>38180800000</td>\n",
       "    </tr>\n",
       "    <tr>\n",
       "      <th>2</th>\n",
       "      <td>2018-04-02</td>\n",
       "      <td>379.70</td>\n",
       "      <td>395.17</td>\n",
       "      <td>377.59</td>\n",
       "      <td>386.43</td>\n",
       "      <td>1102260000</td>\n",
       "      <td>37422500000</td>\n",
       "    </tr>\n",
       "    <tr>\n",
       "      <th>3</th>\n",
       "      <td>2018-04-01</td>\n",
       "      <td>397.25</td>\n",
       "      <td>400.53</td>\n",
       "      <td>363.81</td>\n",
       "      <td>379.61</td>\n",
       "      <td>1256930000</td>\n",
       "      <td>39144700000</td>\n",
       "    </tr>\n",
       "    <tr>\n",
       "      <th>4</th>\n",
       "      <td>2018-03-31</td>\n",
       "      <td>395.00</td>\n",
       "      <td>418.47</td>\n",
       "      <td>392.95</td>\n",
       "      <td>396.46</td>\n",
       "      <td>1323920000</td>\n",
       "      <td>38914900000</td>\n",
       "    </tr>\n",
       "  </tbody>\n",
       "</table>\n",
       "</div>"
      ],
      "text/plain": [
       "        Date    Open    High     Low   Close      Volume   Market Cap\n",
       "0 2018-04-04  416.49  417.47  375.31  380.54  1287730000  41065100000\n",
       "1 2018-04-03  387.31  418.97  383.53  416.89  1363400000  38180800000\n",
       "2 2018-04-02  379.70  395.17  377.59  386.43  1102260000  37422500000\n",
       "3 2018-04-01  397.25  400.53  363.81  379.61  1256930000  39144700000\n",
       "4 2018-03-31  395.00  418.47  392.95  396.46  1323920000  38914900000"
      ]
     },
     "execution_count": 60,
     "metadata": {},
     "output_type": "execute_result"
    }
   ],
   "source": [
    "# get market info for ethereum from the start of 2016 to the current day\n",
    "eth_market_info = pd.read_html(\"https://coinmarketcap.com/currencies/ethereum/historical-data/?start=20130428&end=\"+time.strftime(\"%Y%m%d\"))[0]\n",
    "# convert the date string to the correct date format\n",
    "eth_market_info = eth_market_info.assign(Date=pd.to_datetime(eth_market_info['Date']))\n",
    "# look at the first few rows\n",
    "eth_market_info.head()"
   ]
  },
  {
   "cell_type": "code",
   "execution_count": 61,
   "metadata": {},
   "outputs": [],
   "source": [
    "bitcoin_market_info.columns =[bitcoin_market_info.columns[0]]+['bt_'+i for i in bitcoin_market_info.columns[1:]]\n",
    "eth_market_info.columns =[eth_market_info.columns[0]]+['eth_'+i for i in eth_market_info.columns[1:]]"
   ]
  },
  {
   "cell_type": "code",
   "execution_count": 62,
   "metadata": {},
   "outputs": [
    {
     "data": {
      "image/png": "[encoded data removed]",
      "text/plain": [
       "<Figure size 432x288 with 2 Axes>"
      ]
     },
     "metadata": {},
     "output_type": "display_data"
    }
   ],
   "source": [
    "fig, (ax1, ax2) = plt.subplots(2,1, gridspec_kw = {'height_ratios':[3, 1]})\n",
    "ax1.set_ylabel('Closing Price ($)',fontsize=12)\n",
    "ax2.set_ylabel('Volume ($ bn)',fontsize=12)\n",
    "ax2.set_yticks([int('%d000000000'%i) for i in range(10)])\n",
    "ax2.set_yticklabels(range(10))\n",
    "ax1.set_xticks([datetime.date(i,j,1) for i in range(2013,2019) for j in [1,7]])\n",
    "ax1.set_xticklabels('')\n",
    "ax2.set_xticks([datetime.date(i,j,1) for i in range(2013,2019) for j in [1,7]])\n",
    "ax2.set_xticklabels([datetime.date(i,j,1).strftime('%b %Y')  for i in range(2013,2019) for j in [1,7]])\n",
    "ax1.plot(bitcoin_market_info['Date'].astype(datetime.datetime),bitcoin_market_info['bt_Open'])\n",
    "ax2.bar(bitcoin_market_info['Date'].astype(datetime.datetime).values, bitcoin_market_info['bt_Volume'].values)\n",
    "fig.tight_layout()\n",
    "plt.show()"
   ]
  },
  {
   "cell_type": "markdown",
   "metadata": {},
   "source": [
    "##### Preprocessing Stage 2 : \n",
    "1. Combining both bitcoin and etheruem datasets\n",
    "2. Adding new attribute called bt_day_diff : normalised difference between Open and Close price "
   ]
  },
  {
   "cell_type": "code",
   "execution_count": 63,
   "metadata": {},
   "outputs": [
    {
     "data": {
      "text/html": [
       "<div>\n",
       "<style scoped>\n",
       "    .dataframe tbody tr th:only-of-type {\n",
       "        vertical-align: middle;\n",
       "    }\n",
       "\n",
       "    .dataframe tbody tr th {\n",
       "        vertical-align: top;\n",
       "    }\n",
       "\n",
       "    .dataframe thead th {\n",
       "        text-align: right;\n",
       "    }\n",
       "</style>\n",
       "<table border=\"1\" class=\"dataframe\">\n",
       "  <thead>\n",
       "    <tr style=\"text-align: right;\">\n",
       "      <th></th>\n",
       "      <th>Date</th>\n",
       "      <th>bt_Open</th>\n",
       "      <th>bt_High</th>\n",
       "      <th>bt_Low</th>\n",
       "      <th>bt_Close</th>\n",
       "      <th>bt_Volume</th>\n",
       "      <th>bt_Market Cap</th>\n",
       "      <th>eth_Open</th>\n",
       "      <th>eth_High</th>\n",
       "      <th>eth_Low</th>\n",
       "      <th>eth_Close</th>\n",
       "      <th>eth_Volume</th>\n",
       "      <th>eth_Market Cap</th>\n",
       "      <th>bt_day_diff</th>\n",
       "      <th>eth_day_diff</th>\n",
       "    </tr>\n",
       "  </thead>\n",
       "  <tbody>\n",
       "    <tr>\n",
       "      <th>0</th>\n",
       "      <td>2018-04-04</td>\n",
       "      <td>7456.41</td>\n",
       "      <td>7469.88</td>\n",
       "      <td>6803.88</td>\n",
       "      <td>6853.84</td>\n",
       "      <td>4936000000</td>\n",
       "      <td>126434000000</td>\n",
       "      <td>416.49</td>\n",
       "      <td>417.47</td>\n",
       "      <td>375.31</td>\n",
       "      <td>380.54</td>\n",
       "      <td>1287730000</td>\n",
       "      <td>41065100000</td>\n",
       "      <td>-0.080812</td>\n",
       "      <td>-0.086317</td>\n",
       "    </tr>\n",
       "    <tr>\n",
       "      <th>1</th>\n",
       "      <td>2018-04-03</td>\n",
       "      <td>7102.26</td>\n",
       "      <td>7530.94</td>\n",
       "      <td>7072.49</td>\n",
       "      <td>7456.11</td>\n",
       "      <td>5499700000</td>\n",
       "      <td>120415000000</td>\n",
       "      <td>387.31</td>\n",
       "      <td>418.97</td>\n",
       "      <td>383.53</td>\n",
       "      <td>416.89</td>\n",
       "      <td>1363400000</td>\n",
       "      <td>38180800000</td>\n",
       "      <td>0.049822</td>\n",
       "      <td>0.076373</td>\n",
       "    </tr>\n",
       "    <tr>\n",
       "      <th>2</th>\n",
       "      <td>2018-04-02</td>\n",
       "      <td>6844.86</td>\n",
       "      <td>7135.47</td>\n",
       "      <td>6816.58</td>\n",
       "      <td>7083.80</td>\n",
       "      <td>4333440000</td>\n",
       "      <td>116037000000</td>\n",
       "      <td>379.70</td>\n",
       "      <td>395.17</td>\n",
       "      <td>377.59</td>\n",
       "      <td>386.43</td>\n",
       "      <td>1102260000</td>\n",
       "      <td>37422500000</td>\n",
       "      <td>0.034908</td>\n",
       "      <td>0.017725</td>\n",
       "    </tr>\n",
       "    <tr>\n",
       "      <th>3</th>\n",
       "      <td>2018-04-01</td>\n",
       "      <td>7003.06</td>\n",
       "      <td>7060.95</td>\n",
       "      <td>6526.87</td>\n",
       "      <td>6844.23</td>\n",
       "      <td>4532100000</td>\n",
       "      <td>118705000000</td>\n",
       "      <td>397.25</td>\n",
       "      <td>400.53</td>\n",
       "      <td>363.81</td>\n",
       "      <td>379.61</td>\n",
       "      <td>1256930000</td>\n",
       "      <td>39144700000</td>\n",
       "      <td>-0.022680</td>\n",
       "      <td>-0.044405</td>\n",
       "    </tr>\n",
       "    <tr>\n",
       "      <th>4</th>\n",
       "      <td>2018-03-31</td>\n",
       "      <td>6892.48</td>\n",
       "      <td>7207.85</td>\n",
       "      <td>6863.52</td>\n",
       "      <td>6973.53</td>\n",
       "      <td>4553270000</td>\n",
       "      <td>116820000000</td>\n",
       "      <td>395.00</td>\n",
       "      <td>418.47</td>\n",
       "      <td>392.95</td>\n",
       "      <td>396.46</td>\n",
       "      <td>1323920000</td>\n",
       "      <td>38914900000</td>\n",
       "      <td>0.011759</td>\n",
       "      <td>0.003696</td>\n",
       "    </tr>\n",
       "  </tbody>\n",
       "</table>\n",
       "</div>"
      ],
      "text/plain": [
       "        Date  bt_Open  bt_High   bt_Low  bt_Close   bt_Volume  bt_Market Cap  \\\n",
       "0 2018-04-04  7456.41  7469.88  6803.88   6853.84  4936000000   126434000000   \n",
       "1 2018-04-03  7102.26  7530.94  7072.49   7456.11  5499700000   120415000000   \n",
       "2 2018-04-02  6844.86  7135.47  6816.58   7083.80  4333440000   116037000000   \n",
       "3 2018-04-01  7003.06  7060.95  6526.87   6844.23  4532100000   118705000000   \n",
       "4 2018-03-31  6892.48  7207.85  6863.52   6973.53  4553270000   116820000000   \n",
       "\n",
       "   eth_Open  eth_High  eth_Low  eth_Close  eth_Volume eth_Market Cap  \\\n",
       "0    416.49    417.47   375.31     380.54  1287730000    41065100000   \n",
       "1    387.31    418.97   383.53     416.89  1363400000    38180800000   \n",
       "2    379.70    395.17   377.59     386.43  1102260000    37422500000   \n",
       "3    397.25    400.53   363.81     379.61  1256930000    39144700000   \n",
       "4    395.00    418.47   392.95     396.46  1323920000    38914900000   \n",
       "\n",
       "   bt_day_diff  eth_day_diff  \n",
       "0    -0.080812     -0.086317  \n",
       "1     0.049822      0.076373  \n",
       "2     0.034908      0.017725  \n",
       "3    -0.022680     -0.044405  \n",
       "4     0.011759      0.003696  "
      ]
     },
     "execution_count": 63,
     "metadata": {},
     "output_type": "execute_result"
    }
   ],
   "source": [
    "market_info = pd.merge(bitcoin_market_info,eth_market_info, on=['Date'])\n",
    "market_info = market_info[market_info['Date']>='2016-01-01']\n",
    "for coins in ['bt_', 'eth_']: \n",
    "    kwargs = { coins+'day_diff': lambda x: (x[coins+'Close']-x[coins+'Open'])/x[coins+'Open']}\n",
    "    market_info = market_info.assign(**kwargs)\n",
    "market_info.head()"
   ]
  },
  {
   "cell_type": "markdown",
   "metadata": {},
   "source": [
    "###  Spliting Data Set into Training, Test Set\n",
    "\n",
    "The model is built on the training set and subsequently evaluated on the unseen test set. \n",
    "\n",
    "In time series models, we generally train on one period of time and then test on another separate period. \n",
    "\n",
    "To split it into train-set and test-test : cut-off date as  June 1st 2017 (i.e. model will be trained on data before that date and assessed on data after it)."
   ]
  },
  {
   "cell_type": "code",
   "execution_count": 64,
   "metadata": {},
   "outputs": [
    {
     "data": {
      "image/png": "[encoded data removed]",
      "text/plain": [
       "<Figure size 432x288 with 1 Axes>"
      ]
     },
     "metadata": {},
     "output_type": "display_data"
    }
   ],
   "source": [
    "split_date = '2017-06-01'\n",
    "fig, (ax1) = plt.subplots(1,1)\n",
    "ax1.set_xticks([datetime.date(i,j,1) for i in range(2013,2019) for j in [1,7]])\n",
    "ax1.set_xticklabels('')\n",
    "ax1.plot(market_info[market_info['Date'] < split_date]['Date'].astype(datetime.datetime),\n",
    "         market_info[market_info['Date'] < split_date]['bt_Close'], \n",
    "         color='#B08FC7', label='Training')\n",
    "ax1.plot(market_info[market_info['Date'] >= split_date]['Date'].astype(datetime.datetime),\n",
    "         market_info[market_info['Date'] >= split_date]['bt_Close'], \n",
    "         color='#8FBAC8', label='Test')\n",
    "ax1.set_xticklabels('')\n",
    "ax1.set_ylabel('Bitcoin Price ($)',fontsize=12)\n",
    "plt.tight_layout()\n",
    "ax1.legend(bbox_to_anchor=(0.03, 1), loc=2, borderaxespad=0., prop={'size': 14})\n",
    "\n",
    "plt.show()"
   ]
  },
  {
   "cell_type": "markdown",
   "metadata": {},
   "source": [
    "You can see that the training period mostly consists of periods when cryptos were relatively cheaper. As such, the training data may not be representative of the test data, undermining the model's ability to generalise to unseen data\n",
    "\n",
    "==> This tells us that Simple 1D Linear Regression wont be able to represent the model"
   ]
  },
  {
   "cell_type": "markdown",
   "metadata": {},
   "source": [
    "## A simple Model called Lag Model, \n",
    "\n",
    "stock prices are commonly treated as random walk. We can use this approach in bitcoin prediction too.\n",
    "\n",
    "In mathematical terms,\n",
    "\\begin{align}\n",
    "PredPrice_{t} & = ActualPrice_{t-1} * \\epsilon, \\epsilon \\sim N(\\mu, \\sigma)\n",
    "\\end{align}\n",
    "\n",
    "We'll determine &mu; and &sigma; from the training sets and apply the random walk model to the Bitcoin and Ethereum test sets."
   ]
  },
  {
   "cell_type": "markdown",
   "metadata": {},
   "source": [
    "For this model to work, first we may want to make sure the daily change in price follows a normal distribution.\n",
    "We'll plot the histogram of values."
   ]
  },
  {
   "cell_type": "markdown",
   "metadata": {},
   "source": [
    "#### Histogram of daily price changes  :Normal Distribution"
   ]
  },
  {
   "cell_type": "code",
   "execution_count": 65,
   "metadata": {},
   "outputs": [
    {
     "data": {
      "image/png": "[encoded data removed]",
      "text/plain": [
       "<Figure size 432x288 with 1 Axes>"
      ]
     },
     "metadata": {},
     "output_type": "display_data"
    }
   ],
   "source": [
    "fig, (ax1) = plt.subplots(1,1)\n",
    "ax1.hist(market_info[market_info['Date']< split_date]['bt_day_diff'].values, bins=100)\n",
    "ax1.set_title('Bitcoin Daily Price Changes')\n",
    "plt.show()"
   ]
  },
  {
   "cell_type": "code",
   "execution_count": 72,
   "metadata": {},
   "outputs": [
    {
     "data": {
      "image/png": "[encoded data removed]",
      "text/plain": [
       "<Figure size 432x288 with 1 Axes>"
      ]
     },
     "metadata": {},
     "output_type": "display_data"
    },
    {
     "name": "stdout",
     "output_type": "stream",
     "text": [
      "Mean : 0.0034725515127453847 \n",
      "Standard Deviation : 0.029577163052466778\n",
      "(' RMSE  : ', 633.764065624939)\n"
     ]
    }
   ],
   "source": [
    "np.random.seed(500)\n",
    "\n",
    "#calculating mean and std from training data set\n",
    "bt_r_walk_mean, bt_r_walk_sd = np.mean(market_info[market_info['Date']< split_date]['bt_day_diff'].values), \\\n",
    "                         np.std(market_info[market_info['Date']< split_date]['bt_day_diff'].values)\n",
    "\n",
    "# generating random noise from the Normal distribution with the calculated mean and std\n",
    "bt_random_steps = np.random.normal(bt_r_walk_mean, bt_r_walk_sd, \n",
    "                (max(market_info['Date']).to_pydatetime() - datetime.datetime.strptime(split_date, '%Y-%m-%d')).days + 1)\n",
    "\n",
    "# Doing the same for ethereum\n",
    "eth_r_walk_mean, eth_r_walk_sd = np.mean(market_info[market_info['Date']< split_date]['eth_day_diff'].values), \\\n",
    "                         np.std(market_info[market_info['Date']< split_date]['eth_day_diff'].values)\n",
    "eth_random_steps = np.random.normal(eth_r_walk_mean, eth_r_walk_sd, \n",
    "                (max(market_info['Date']).to_pydatetime() - datetime.datetime.strptime(split_date, '%Y-%m-%d')).days + 1)\n",
    "\n",
    "fig, (ax1) = plt.subplots(1,1)\n",
    "ax1.set_xticks([datetime.date(2017,i+1,1) for i in range(12)])\n",
    "ax1.set_xticklabels('')\n",
    "test_x,test_y = market_info[market_info['Date']>= split_date]['Date'].astype(datetime.datetime) ,market_info[market_info['Date']>= split_date]['bt_Close'].values\n",
    "\n",
    "ax1.plot(test_x, test_y,label='actual')  # ploting actual prices\n",
    "\n",
    "#prediction\n",
    "pred_test_y = market_info[(market_info['Date']+ datetime.timedelta(days=1))>= split_date]['bt_Close'].values[1:] * (1+bt_random_steps)\n",
    "    \n",
    "ax1.plot(test_x,pred_test_y, label='Predicted') #ploting predicted values\n",
    "\n",
    "ax1.set_title('Single Point Random Walk (Test Set)')\n",
    "ax1.set_ylabel('Bitcoin Price ($)',fontsize=12)\n",
    "ax1.legend(bbox_to_anchor=(0.1, 1), loc=2, borderaxespad=0., prop={'size': 14})\n",
    "plt.tight_layout()\n",
    "plt.show()\n",
    "from sklearn import metrics\n",
    "print (\"Mean : %s \\nStandard Deviation : %s\"%(bt_r_walk_mean, bt_r_walk_sd))\n",
    "print(\" RMSE  : \", np.sqrt(metrics.mean_squared_error(test_y, pred_test_y)))\n"
   ]
  },
  {
   "cell_type": "markdown",
   "metadata": {},
   "source": [
    "Models that only make predictions one point into the future are often misleadingly accurate, as errors aren't carried over to subsequent predictions. No matter how large the error, it's essentially reset at each time point, as the model is fed the true price. The Bitcoin random walk is particularly deceptive, as the scale of the y-axis is quite wide, making the prediction line appear quite smooth.\n",
    "\n",
    "A better idea could be to measure its accuracy on multi-point predictions. That way, errors from previous predictions aren't reset but rather are compounded by subsequent predictions. Thus, poor models are penalised more heavily. In mathematical terms:\n",
    "\n",
    "\\begin{align}\n",
    "PredPrice_{t} & = PredPrice_{t-1} * \\epsilon   ,\n",
    "\\end{align}\n",
    "\n",
    "\\begin{align}\n",
    "    \\epsilon \\sim N(\\mu, \\sigma)\\ \\&  \\ PredPrice_0 = Price_0\n",
    "\\end{align}\n",
    "\n",
    "Let's get our random walk model to predict the closing prices over the total test set."
   ]
  },
  {
   "cell_type": "markdown",
   "metadata": {},
   "source": [
    "### Random Walk over full interval"
   ]
  },
  {
   "cell_type": "code",
   "execution_count": 73,
   "metadata": {},
   "outputs": [
    {
     "data": {
      "image/png": "[encoded data removed]",
      "text/plain": [
       "<Figure size 432x288 with 1 Axes>"
      ]
     },
     "metadata": {},
     "output_type": "display_data"
    }
   ],
   "source": [
    "\n",
    "bt_random_walk = []\n",
    "eth_random_walk = []\n",
    "for n_step, (bt_step, eth_step) in enumerate(zip(bt_random_steps, eth_random_steps)):\n",
    "    if n_step==0:\n",
    "        bt_random_walk.append(market_info[market_info['Date']< split_date]['bt_Close'].values[0] * (bt_step+1))\n",
    "        eth_random_walk.append(market_info[market_info['Date']< split_date]['eth_Close'].values[0] * (eth_step+1))\n",
    "    else:\n",
    "        bt_random_walk.append(bt_random_walk[n_step-1] * (bt_step+1))\n",
    "        eth_random_walk.append(eth_random_walk[n_step-1] * (eth_step+1))\n",
    "fig, (ax1) = plt.subplots(1, 1)\n",
    "ax1.set_xticks([datetime.date(2017,i+1,1) for i in range(12)])\n",
    "ax1.set_xticklabels('')\n",
    "ax1.plot(market_info[market_info['Date']>= split_date]['Date'].astype(datetime.datetime),\n",
    "         market_info[market_info['Date']>= split_date]['bt_Close'].values, label='Actual')\n",
    "ax1.plot(market_info[market_info['Date']>= split_date]['Date'].astype(datetime.datetime),\n",
    "         bt_random_walk[::-1], label='Predicted')\n",
    "ax1.set_title('Full Interval Random Walk')\n",
    "ax1.set_ylabel('Bitcoin Price ($)',fontsize=12)\n",
    "ax1.legend(bbox_to_anchor=(0.1, 1), loc=2, borderaxespad=0., prop={'size': 14})\n",
    "plt.tight_layout()\n",
    "plt.show()"
   ]
  },
  {
   "cell_type": "markdown",
   "metadata": {},
   "source": [
    "The model predictions are extremely sensitive to the random seed."
   ]
  },
  {
   "cell_type": "markdown",
   "metadata": {
    "collapsed": true
   },
   "source": [
    "## Long Short Term Memory (LSTM)\n",
    "\n",
    " A common LSTM unit is composed of a cell, an input gate, an output gate and a forget gate. The cell is responsible for \"remembering\" values over arbitrary time intervals"
   ]
  },
  {
   "cell_type": "markdown",
   "metadata": {},
   "source": [
    "#### Preprocessing for LSTM\n",
    "   1. removed some of the previous columns (open price, daily highs and lows)\n",
    "   2. Normalising all columns\n",
    "   3. Added new columns : \n",
    "   \n",
    "close_off_high : represents the gap between the closing price and price high for that day, where values of -1 and 1   mean the closing price was equal to the daily low or daily high, respectively.\n",
    "   \n",
    "volatility : difference between high and low price divided by the opening price"
   ]
  },
  {
   "cell_type": "code",
   "execution_count": 77,
   "metadata": {},
   "outputs": [],
   "source": [
    "for coins in ['bt_', 'eth_']: \n",
    "    kwargs = { coins+'close_off_high': lambda x: 2*(x[coins+'High']- x[coins+'Close'])/(x[coins+'High']-x[coins+'Low'])-1,\n",
    "            coins+'volatility': lambda x: (x[coins+'High']- x[coins+'Low'])/(x[coins+'Open'])}\n",
    "    market_info = market_info.assign(**kwargs)"
   ]
  },
  {
   "cell_type": "code",
   "execution_count": 78,
   "metadata": {},
   "outputs": [
    {
     "data": {
      "text/html": [
       "<div>\n",
       "<style scoped>\n",
       "    .dataframe tbody tr th:only-of-type {\n",
       "        vertical-align: middle;\n",
       "    }\n",
       "\n",
       "    .dataframe tbody tr th {\n",
       "        vertical-align: top;\n",
       "    }\n",
       "\n",
       "    .dataframe thead th {\n",
       "        text-align: right;\n",
       "    }\n",
       "</style>\n",
       "<table border=\"1\" class=\"dataframe\">\n",
       "  <thead>\n",
       "    <tr style=\"text-align: right;\">\n",
       "      <th></th>\n",
       "      <th>Date</th>\n",
       "      <th>bt_Close</th>\n",
       "      <th>bt_Volume</th>\n",
       "      <th>bt_close_off_high</th>\n",
       "      <th>bt_volatility</th>\n",
       "      <th>eth_Close</th>\n",
       "      <th>eth_Volume</th>\n",
       "      <th>eth_close_off_high</th>\n",
       "      <th>eth_volatility</th>\n",
       "    </tr>\n",
       "  </thead>\n",
       "  <tbody>\n",
       "    <tr>\n",
       "      <th>824</th>\n",
       "      <td>2016-01-01</td>\n",
       "      <td>434.33</td>\n",
       "      <td>36278900</td>\n",
       "      <td>-0.560641</td>\n",
       "      <td>0.020292</td>\n",
       "      <td>0.948024</td>\n",
       "      <td>206062</td>\n",
       "      <td>-0.418477</td>\n",
       "      <td>0.025040</td>\n",
       "    </tr>\n",
       "    <tr>\n",
       "      <th>823</th>\n",
       "      <td>2016-01-02</td>\n",
       "      <td>433.44</td>\n",
       "      <td>30096600</td>\n",
       "      <td>0.250597</td>\n",
       "      <td>0.009641</td>\n",
       "      <td>0.937124</td>\n",
       "      <td>255504</td>\n",
       "      <td>0.965898</td>\n",
       "      <td>0.034913</td>\n",
       "    </tr>\n",
       "    <tr>\n",
       "      <th>822</th>\n",
       "      <td>2016-01-03</td>\n",
       "      <td>430.01</td>\n",
       "      <td>39633800</td>\n",
       "      <td>-0.173865</td>\n",
       "      <td>0.020827</td>\n",
       "      <td>0.971905</td>\n",
       "      <td>407632</td>\n",
       "      <td>-0.317885</td>\n",
       "      <td>0.060792</td>\n",
       "    </tr>\n",
       "    <tr>\n",
       "      <th>821</th>\n",
       "      <td>2016-01-04</td>\n",
       "      <td>433.09</td>\n",
       "      <td>38477500</td>\n",
       "      <td>-0.474265</td>\n",
       "      <td>0.012649</td>\n",
       "      <td>0.954480</td>\n",
       "      <td>346245</td>\n",
       "      <td>-0.057657</td>\n",
       "      <td>0.047943</td>\n",
       "    </tr>\n",
       "    <tr>\n",
       "      <th>820</th>\n",
       "      <td>2016-01-05</td>\n",
       "      <td>431.96</td>\n",
       "      <td>34522600</td>\n",
       "      <td>-0.013333</td>\n",
       "      <td>0.010391</td>\n",
       "      <td>0.950176</td>\n",
       "      <td>219833</td>\n",
       "      <td>0.697930</td>\n",
       "      <td>0.025236</td>\n",
       "    </tr>\n",
       "  </tbody>\n",
       "</table>\n",
       "</div>"
      ],
      "text/plain": [
       "          Date  bt_Close  bt_Volume  bt_close_off_high  bt_volatility  \\\n",
       "824 2016-01-01    434.33   36278900          -0.560641       0.020292   \n",
       "823 2016-01-02    433.44   30096600           0.250597       0.009641   \n",
       "822 2016-01-03    430.01   39633800          -0.173865       0.020827   \n",
       "821 2016-01-04    433.09   38477500          -0.474265       0.012649   \n",
       "820 2016-01-05    431.96   34522600          -0.013333       0.010391   \n",
       "\n",
       "     eth_Close  eth_Volume  eth_close_off_high  eth_volatility  \n",
       "824   0.948024      206062           -0.418477        0.025040  \n",
       "823   0.937124      255504            0.965898        0.034913  \n",
       "822   0.971905      407632           -0.317885        0.060792  \n",
       "821   0.954480      346245           -0.057657        0.047943  \n",
       "820   0.950176      219833            0.697930        0.025236  "
      ]
     },
     "execution_count": 78,
     "metadata": {},
     "output_type": "execute_result"
    }
   ],
   "source": [
    "model_data = market_info[['Date']+[coin+metric for coin in ['bt_', 'eth_'] \n",
    "                                   for metric in ['Close','Volume','close_off_high','volatility']]]\n",
    "# need to reverse the data frame so that subsequent rows represent later timepoints\n",
    "model_data = model_data.sort_values(by='Date')\n",
    "model_data.head()"
   ]
  },
  {
   "cell_type": "markdown",
   "metadata": {},
   "source": [
    "\n",
    "\n",
    "Our LSTM model will use previous data (both bitcoin and eth) to predict the next day's closing price of a bitcoin. We must decide how many previous days it will have access to.\n",
    "\n",
    "Again, it's rather arbitrary, but I'll opt for 10 days, as it's a nice round number. We build little data frames consisting of 10 consecutive days of data (called windows), so the first window will consist of the 0-9th rows of the training set , the second will be the rows 1-10, etc. \n",
    "\n",
    "Picking a small window size means we can feed more windows into our model; the downside is that the model may not have sufficient information to detect complex long term behaviours (if such things exist). \n"
   ]
  },
  {
   "cell_type": "code",
   "execution_count": 79,
   "metadata": {},
   "outputs": [],
   "source": [
    "# we don't need the date columns anymore\n",
    "training_set, test_set = model_data[model_data['Date']<split_date], model_data[model_data['Date']>=split_date]\n",
    "training_set = training_set.drop('Date', 1)\n",
    "test_set = test_set.drop('Date', 1)"
   ]
  },
  {
   "cell_type": "code",
   "execution_count": 80,
   "metadata": {},
   "outputs": [],
   "source": [
    "window_len = 10\n",
    "norm_cols = [coin+metric for coin in ['bt_', 'eth_'] for metric in ['Close','Volume']]"
   ]
  },
  {
   "cell_type": "code",
   "execution_count": 95,
   "metadata": {},
   "outputs": [],
   "source": [
    "LSTM_training_inputs = []\n",
    "for i in range(len(training_set)-window_len):\n",
    "    temp_set = training_set[i:(i+window_len)].copy()\n",
    "    for col in norm_cols:\n",
    "        temp_set.loc[:, col] = temp_set[col]/temp_set[col].iloc[0] - 1\n",
    "    LSTM_training_inputs.append(temp_set)\n",
    "LSTM_training_outputs = (training_set['eth_Close'][window_len:].values/training_set['eth_Close'][:-window_len].values)-1\n",
    "\n"
   ]
  },
  {
   "cell_type": "code",
   "execution_count": 96,
   "metadata": {},
   "outputs": [],
   "source": [
    "LSTM_test_inputs = []\n",
    "for i in range(len(test_set)-window_len):\n",
    "    temp_set = test_set[i:(i+window_len)].copy()\n",
    "    for col in norm_cols:\n",
    "        temp_set.loc[:, col] = temp_set[col]/temp_set[col].iloc[0] - 1\n",
    "    LSTM_test_inputs.append(temp_set)\n",
    "LSTM_test_outputs = (test_set['eth_Close'][window_len:].values/test_set['eth_Close'][:-window_len].values)-1"
   ]
  },
  {
   "cell_type": "code",
   "execution_count": 97,
   "metadata": {},
   "outputs": [
    {
     "data": {
      "text/html": [
       "<div>\n",
       "<style scoped>\n",
       "    .dataframe tbody tr th:only-of-type {\n",
       "        vertical-align: middle;\n",
       "    }\n",
       "\n",
       "    .dataframe tbody tr th {\n",
       "        vertical-align: top;\n",
       "    }\n",
       "\n",
       "    .dataframe thead th {\n",
       "        text-align: right;\n",
       "    }\n",
       "</style>\n",
       "<table border=\"1\" class=\"dataframe\">\n",
       "  <thead>\n",
       "    <tr style=\"text-align: right;\">\n",
       "      <th></th>\n",
       "      <th>bt_Close</th>\n",
       "      <th>bt_Volume</th>\n",
       "      <th>bt_close_off_high</th>\n",
       "      <th>bt_volatility</th>\n",
       "      <th>eth_Close</th>\n",
       "      <th>eth_Volume</th>\n",
       "      <th>eth_close_off_high</th>\n",
       "      <th>eth_volatility</th>\n",
       "    </tr>\n",
       "  </thead>\n",
       "  <tbody>\n",
       "    <tr>\n",
       "      <th>824</th>\n",
       "      <td>0.000000</td>\n",
       "      <td>0.000000</td>\n",
       "      <td>-0.560641</td>\n",
       "      <td>0.020292</td>\n",
       "      <td>0.000000</td>\n",
       "      <td>0.000000</td>\n",
       "      <td>-0.418477</td>\n",
       "      <td>0.025040</td>\n",
       "    </tr>\n",
       "    <tr>\n",
       "      <th>823</th>\n",
       "      <td>-0.002049</td>\n",
       "      <td>-0.170410</td>\n",
       "      <td>0.250597</td>\n",
       "      <td>0.009641</td>\n",
       "      <td>-0.011498</td>\n",
       "      <td>0.239937</td>\n",
       "      <td>0.965898</td>\n",
       "      <td>0.034913</td>\n",
       "    </tr>\n",
       "    <tr>\n",
       "      <th>822</th>\n",
       "      <td>-0.009946</td>\n",
       "      <td>0.092475</td>\n",
       "      <td>-0.173865</td>\n",
       "      <td>0.020827</td>\n",
       "      <td>0.025190</td>\n",
       "      <td>0.978201</td>\n",
       "      <td>-0.317885</td>\n",
       "      <td>0.060792</td>\n",
       "    </tr>\n",
       "    <tr>\n",
       "      <th>821</th>\n",
       "      <td>-0.002855</td>\n",
       "      <td>0.060603</td>\n",
       "      <td>-0.474265</td>\n",
       "      <td>0.012649</td>\n",
       "      <td>0.006810</td>\n",
       "      <td>0.680295</td>\n",
       "      <td>-0.057657</td>\n",
       "      <td>0.047943</td>\n",
       "    </tr>\n",
       "    <tr>\n",
       "      <th>820</th>\n",
       "      <td>-0.005457</td>\n",
       "      <td>-0.048411</td>\n",
       "      <td>-0.013333</td>\n",
       "      <td>0.010391</td>\n",
       "      <td>0.002270</td>\n",
       "      <td>0.066829</td>\n",
       "      <td>0.697930</td>\n",
       "      <td>0.025236</td>\n",
       "    </tr>\n",
       "    <tr>\n",
       "      <th>819</th>\n",
       "      <td>-0.012019</td>\n",
       "      <td>-0.061645</td>\n",
       "      <td>-0.003623</td>\n",
       "      <td>0.012782</td>\n",
       "      <td>0.002991</td>\n",
       "      <td>0.498534</td>\n",
       "      <td>-0.214540</td>\n",
       "      <td>0.026263</td>\n",
       "    </tr>\n",
       "    <tr>\n",
       "      <th>818</th>\n",
       "      <td>0.054613</td>\n",
       "      <td>1.413585</td>\n",
       "      <td>-0.951499</td>\n",
       "      <td>0.069045</td>\n",
       "      <td>-0.006349</td>\n",
       "      <td>2.142074</td>\n",
       "      <td>0.681644</td>\n",
       "      <td>0.040587</td>\n",
       "    </tr>\n",
       "    <tr>\n",
       "      <th>817</th>\n",
       "      <td>0.043515</td>\n",
       "      <td>0.570968</td>\n",
       "      <td>0.294196</td>\n",
       "      <td>0.032762</td>\n",
       "      <td>0.040890</td>\n",
       "      <td>1.647747</td>\n",
       "      <td>-0.806717</td>\n",
       "      <td>0.055274</td>\n",
       "    </tr>\n",
       "    <tr>\n",
       "      <th>816</th>\n",
       "      <td>0.030576</td>\n",
       "      <td>-0.110282</td>\n",
       "      <td>0.814194</td>\n",
       "      <td>0.017094</td>\n",
       "      <td>0.040937</td>\n",
       "      <td>0.098121</td>\n",
       "      <td>-0.411897</td>\n",
       "      <td>0.019021</td>\n",
       "    </tr>\n",
       "    <tr>\n",
       "      <th>815</th>\n",
       "      <td>0.031451</td>\n",
       "      <td>-0.007801</td>\n",
       "      <td>-0.919598</td>\n",
       "      <td>0.017758</td>\n",
       "      <td>0.054014</td>\n",
       "      <td>0.896944</td>\n",
       "      <td>-0.938235</td>\n",
       "      <td>0.025266</td>\n",
       "    </tr>\n",
       "  </tbody>\n",
       "</table>\n",
       "</div>"
      ],
      "text/plain": [
       "     bt_Close  bt_Volume  bt_close_off_high  bt_volatility  eth_Close  \\\n",
       "824  0.000000   0.000000          -0.560641       0.020292   0.000000   \n",
       "823 -0.002049  -0.170410           0.250597       0.009641  -0.011498   \n",
       "822 -0.009946   0.092475          -0.173865       0.020827   0.025190   \n",
       "821 -0.002855   0.060603          -0.474265       0.012649   0.006810   \n",
       "820 -0.005457  -0.048411          -0.013333       0.010391   0.002270   \n",
       "819 -0.012019  -0.061645          -0.003623       0.012782   0.002991   \n",
       "818  0.054613   1.413585          -0.951499       0.069045  -0.006349   \n",
       "817  0.043515   0.570968           0.294196       0.032762   0.040890   \n",
       "816  0.030576  -0.110282           0.814194       0.017094   0.040937   \n",
       "815  0.031451  -0.007801          -0.919598       0.017758   0.054014   \n",
       "\n",
       "     eth_Volume  eth_close_off_high  eth_volatility  \n",
       "824    0.000000           -0.418477        0.025040  \n",
       "823    0.239937            0.965898        0.034913  \n",
       "822    0.978201           -0.317885        0.060792  \n",
       "821    0.680295           -0.057657        0.047943  \n",
       "820    0.066829            0.697930        0.025236  \n",
       "819    0.498534           -0.214540        0.026263  \n",
       "818    2.142074            0.681644        0.040587  \n",
       "817    1.647747           -0.806717        0.055274  \n",
       "816    0.098121           -0.411897        0.019021  \n",
       "815    0.896944           -0.938235        0.025266  "
      ]
     },
     "execution_count": 97,
     "metadata": {},
     "output_type": "execute_result"
    }
   ],
   "source": [
    "LSTM_training_inputs[0]"
   ]
  },
  {
   "cell_type": "markdown",
   "metadata": {},
   "source": [
    "This table represents an example of our LSTM model input (we'll actually have hundreds of similar tables). We've normalised some columns so that their values are equal to 0 in the first time point, so we're aiming to predict changes in price relative to this timepoint. We're now ready to build the LSTM model. This is actually quite straightforward with Keras, you simply stack componenets on top of each other "
   ]
  },
  {
   "cell_type": "code",
   "execution_count": 99,
   "metadata": {},
   "outputs": [],
   "source": [
    "#converting everything to numpy arrays\n",
    "LSTM_training_inputs = [np.array(LSTM_training_input) for LSTM_training_input in LSTM_training_inputs]\n",
    "LSTM_training_inputs = np.array(LSTM_training_inputs)\n",
    "\n",
    "LSTM_test_inputs = [np.array(LSTM_test_inputs) for LSTM_test_inputs in LSTM_test_inputs]\n",
    "LSTM_test_inputs = np.array(LSTM_test_inputs)"
   ]
  },
  {
   "cell_type": "code",
   "execution_count": 104,
   "metadata": {},
   "outputs": [],
   "source": [
    "# import the relevant Keras modules\n",
    "from keras.models import Sequential\n",
    "from keras.layers import Activation, Dense\n",
    "from keras.layers import LSTM\n",
    "from keras.layers import Dropout\n",
    "\n",
    "def build_model(inputs, output_size, neurons, activ_func=\"linear\",\n",
    "                dropout=0.25, loss=\"mae\", optimizer=\"adam\"):\n",
    "    model = Sequential()\n",
    "\n",
    "    model.add(LSTM(neurons, input_shape=(inputs.shape[1], inputs.shape[2]))) \n",
    "    model.add(Dropout(dropout))   # to avoid overfitting\n",
    "    model.add(Dense(units=output_size)) \n",
    "    model.add(Activation(activ_func))\n",
    "\n",
    "    model.compile(loss=loss, optimizer=optimizer)\n",
    "    return model"
   ]
  },
  {
   "cell_type": "code",
   "execution_count": 105,
   "metadata": {},
   "outputs": [
    {
     "name": "stdout",
     "output_type": "stream",
     "text": [
      "_________________________________________________________________\n",
      "Layer (type)                 Output Shape              Param #   \n",
      "=================================================================\n",
      "lstm_2 (LSTM)                (None, 20)                2320      \n",
      "_________________________________________________________________\n",
      "dropout_2 (Dropout)          (None, 20)                0         \n",
      "_________________________________________________________________\n",
      "dense_2 (Dense)              (None, 1)                 21        \n",
      "_________________________________________________________________\n",
      "activation_2 (Activation)    (None, 1)                 0         \n",
      "=================================================================\n",
      "Total params: 2,341\n",
      "Trainable params: 2,341\n",
      "Non-trainable params: 0\n",
      "_________________________________________________________________\n",
      "None\n",
      "(507, 10, 8)\n"
     ]
    }
   ],
   "source": [
    "# random seed for reproducibility\n",
    "np.random.seed(202)\n",
    "# initialise model architecture\n",
    "eth_model = build_model(LSTM_training_inputs, output_size=1, neurons = 20)\n",
    "# model output is next price normalised to 10th previous closing price\n",
    "\n",
    "print eth_model.summary()\n",
    "print LSTM_training_inputs.shape"
   ]
  },
  {
   "cell_type": "markdown",
   "metadata": {},
   "source": [
    "So, the `build_model` functions constructs an empty model unimaginatively called model (`model = Sequential`), to which an LSTM layer is added. That layer has been shaped to fit our inputs (n x m tables, where n and m represent the number of timepoints/rows and columns, respectively). The function also includes more generic neural network features, like [dropout](https://machinelearningmastery.com/dropout-regularization-deep-learning-models-keras/) and [activation functions](https://dashee87.github.io/data%20science/deep%20learning/visualising-activation-functions-in-neural-networks/). Now, we just need to specify the number of neurons to place in the LSTM layer (I've opted for 20 to keep runtime reasonable), as well as the data on which the model will be trained."
   ]
  },
  {
   "cell_type": "markdown",
   "metadata": {},
   "source": [
    "We've just built an LSTM model to predict tomorrow's Ethereum closing price. Let's see how well it performs. We start by examining its performance on the training set (data before June 2017). That number below the code represents the model's mean absolute error (mae) on the training set after the 50th training iteration (or epoch). Instead of relative changes, we can view the model output as daily closing prices."
   ]
  },
  {
   "cell_type": "markdown",
   "metadata": {},
   "source": [
    "We shouldn't be too surprised by its apparent accuracy here. The model could access the source of its error and adjust itself accordingly. In fact, it's not hard to attain almost zero training errors. We could just cram in hundreds of neurons and train for thousands of epochs (a process known as overfitting, where you're essentially predicting noise- I included the `Dropout()` call in the `build_model` function to mitigate this risk for our relatively small model). We should be more interested in its performance on the test dataset, as this represents completely new data for the model."
   ]
  },
  {
   "cell_type": "code",
   "execution_count": 113,
   "metadata": {},
   "outputs": [
    {
     "name": "stdout",
     "output_type": "stream",
     "text": [
      "Epoch 1/50\n",
      " - 5s - loss: 0.1006\n",
      "Epoch 2/50\n",
      " - 4s - loss: 0.0636\n",
      "Epoch 3/50\n",
      " - 3s - loss: 0.0454\n",
      "Epoch 4/50\n",
      " - 3s - loss: 0.0427\n",
      "Epoch 5/50\n",
      " - 3s - loss: 0.0379\n",
      "Epoch 6/50\n",
      " - 3s - loss: 0.0330\n",
      "Epoch 7/50\n",
      " - 3s - loss: 0.0296\n",
      "Epoch 8/50\n",
      " - 3s - loss: 0.0323\n",
      "Epoch 9/50\n",
      " - 3s - loss: 0.0309\n",
      "Epoch 10/50\n",
      " - 3s - loss: 0.0298\n",
      "Epoch 11/50\n",
      " - 3s - loss: 0.0271\n",
      "Epoch 12/50\n",
      " - 3s - loss: 0.0291\n",
      "Epoch 13/50\n",
      " - 3s - loss: 0.0276\n",
      "Epoch 14/50\n",
      " - 3s - loss: 0.0276\n",
      "Epoch 15/50\n",
      " - 3s - loss: 0.0276\n",
      "Epoch 16/50\n",
      " - 3s - loss: 0.0268\n",
      "Epoch 17/50\n",
      " - 3s - loss: 0.0257\n",
      "Epoch 18/50\n",
      " - 3s - loss: 0.0261\n",
      "Epoch 19/50\n",
      " - 3s - loss: 0.0259\n",
      "Epoch 20/50\n",
      " - 4s - loss: 0.0260\n",
      "Epoch 21/50\n",
      " - 4s - loss: 0.0246\n",
      "Epoch 22/50\n",
      " - 3s - loss: 0.0242\n",
      "Epoch 23/50\n",
      " - 3s - loss: 0.0242\n",
      "Epoch 24/50\n",
      " - 3s - loss: 0.0254\n",
      "Epoch 25/50\n",
      " - 3s - loss: 0.0239\n",
      "Epoch 26/50\n",
      " - 3s - loss: 0.0250\n",
      "Epoch 27/50\n",
      " - 3s - loss: 0.0243\n",
      "Epoch 28/50\n",
      " - 4s - loss: 0.0236\n",
      "Epoch 29/50\n",
      " - 4s - loss: 0.0243\n",
      "Epoch 30/50\n",
      " - 3s - loss: 0.0243\n",
      "Epoch 31/50\n",
      " - 3s - loss: 0.0239\n",
      "Epoch 32/50\n",
      " - 3s - loss: 0.0225\n",
      "Epoch 33/50\n",
      " - 3s - loss: 0.0234\n",
      "Epoch 34/50\n",
      " - 3s - loss: 0.0234\n",
      "Epoch 35/50\n",
      " - 3s - loss: 0.0240\n",
      "Epoch 36/50\n",
      " - 4s - loss: 0.0244\n",
      "Epoch 37/50\n",
      " - 4s - loss: 0.0233\n",
      "Epoch 38/50\n",
      " - 5s - loss: 0.0231\n",
      "Epoch 39/50\n",
      " - 4s - loss: 0.0239\n",
      "Epoch 40/50\n",
      " - 4s - loss: 0.0245\n",
      "Epoch 41/50\n",
      " - 5s - loss: 0.0238\n",
      "Epoch 42/50\n",
      " - 5s - loss: 0.0230\n",
      "Epoch 43/50\n",
      " - 4s - loss: 0.0222\n",
      "Epoch 44/50\n",
      " - 4s - loss: 0.0228\n",
      "Epoch 45/50\n",
      " - 3s - loss: 0.0240\n",
      "Epoch 46/50\n",
      " - 3s - loss: 0.0236\n",
      "Epoch 47/50\n",
      " - 3s - loss: 0.0219\n",
      "Epoch 48/50\n",
      " - 4s - loss: 0.0228\n",
      "Epoch 49/50\n",
      " - 4s - loss: 0.0226\n",
      "Epoch 50/50\n",
      " - 3s - loss: 0.0229\n"
     ]
    }
   ],
   "source": [
    "# random seed for reproducibility\n",
    "np.random.seed(202)\n",
    "# initialise model architecture\n",
    "bt_model = build_model(LSTM_training_inputs, output_size=1, neurons = 20)\n",
    "# train model on data\n",
    "# note: eth_history contains information on the training error per epoch\n",
    "bt_history = bt_model.fit(LSTM_training_inputs, \n",
    "                            (training_set['bt_Close'][window_len:].values/training_set['bt_Close'][:-window_len].values)-1, \n",
    "                            epochs=50, batch_size=1, verbose=2, shuffle=True)\n",
    "# #eth_model.save('eth_model%d.h5'%j)"
   ]
  },
  {
   "cell_type": "code",
   "execution_count": 114,
   "metadata": {},
   "outputs": [
    {
     "data": {
      "image/png": "[encoded data removed]",
      "text/plain": [
       "<Figure size 432x288 with 2 Axes>"
      ]
     },
     "metadata": {},
     "output_type": "display_data"
    }
   ],
   "source": [
    "from mpl_toolkits.axes_grid1.inset_locator import zoomed_inset_axes\n",
    "from mpl_toolkits.axes_grid1.inset_locator import mark_inset\n",
    "\n",
    "fig, ax1 = plt.subplots(1,1)\n",
    "ax1.set_xticks([datetime.date(i,j,1) for i in range(2013,2019) for j in [1,5,9]])\n",
    "ax1.set_xticklabels([datetime.date(i,j,1).strftime('%b %Y')  for i in range(2013,2019) for j in [1,5,9]])\n",
    "ax1.plot(model_data[model_data['Date']< split_date]['Date'][window_len:].astype(datetime.datetime),\n",
    "         training_set['bt_Close'][window_len:], label='Actual')\n",
    "ax1.plot(model_data[model_data['Date']< split_date]['Date'][window_len:].astype(datetime.datetime),\n",
    "         ((np.transpose(bt_model.predict(LSTM_training_inputs))+1) * training_set['bt_Close'].values[:-window_len])[0], \n",
    "         label='Predicted')\n",
    "ax1.set_title('Training Set: Single Timepoint Prediction')\n",
    "ax1.set_ylabel('Bitcoin Price ($)',fontsize=12)\n",
    "ax1.annotate('MAE: %.4f'%np.mean(np.abs((np.transpose(bt_model.predict(LSTM_training_inputs))+1)-\\\n",
    "            (training_set['bt_Close'].values[window_len:])/(training_set['bt_Close'].values[:-window_len]))), \n",
    "             xy=(0.75, 0.9),  xycoords='axes fraction',\n",
    "            xytext=(0.75, 0.9), textcoords='axes fraction')\n",
    "ax1.legend(bbox_to_anchor=(0.1, 1), loc=2, borderaxespad=0., prop={'size': 14})\n",
    "# figure inset code taken from http://akuederle.com/matplotlib-zoomed-up-inset\n",
    "axins = zoomed_inset_axes(ax1, 2.52, loc=10, bbox_to_anchor=(400, 307)) # zoom-factor: 2.52, location: centre\n",
    "axins.set_xticks([datetime.date(i,j,1) for i in range(2013,2019) for j in [1,5,9]])\n",
    "axins.plot(model_data[model_data['Date']< split_date]['Date'][window_len:].astype(datetime.datetime),\n",
    "         training_set['bt_Close'][window_len:], label='Actual')\n",
    "axins.plot(model_data[model_data['Date']< split_date]['Date'][window_len:].astype(datetime.datetime),\n",
    "         ((np.transpose(bt_model.predict(LSTM_training_inputs))+1) * training_set['bt_Close'].values[:-window_len])[0], \n",
    "         label='Predicted')\n",
    "axins.set_xlim([datetime.date(2017, 2, 15), datetime.date(2017, 5, 1)])\n",
    "axins.set_ylim([920, 1400])\n",
    "axins.set_xticklabels('')\n",
    "mark_inset(ax1, axins, loc1=1, loc2=3, fc=\"none\", ec=\"0.5\")\n",
    "plt.show()"
   ]
  },
  {
   "cell_type": "code",
   "execution_count": 116,
   "metadata": {},
   "outputs": [
    {
     "data": {
      "image/png": "[encoded data removed]",
      "text/plain": [
       "<Figure size 432x288 with 1 Axes>"
      ]
     },
     "metadata": {},
     "output_type": "display_data"
    }
   ],
   "source": [
    "fig, ax1 = plt.subplots(1,1)\n",
    "ax1.set_xticks([datetime.date(2017,i+1,1) for i in range(12)])\n",
    "ax1.set_xticklabels([datetime.date(2017,i+1,1).strftime('%b %d %Y')  for i in range(12)])\n",
    "ax1.plot(model_data[model_data['Date']>= split_date]['Date'][10:].astype(datetime.datetime),\n",
    "         test_set['bt_Close'][window_len:], label='Actual')\n",
    "ax1.plot(model_data[model_data['Date']>= split_date]['Date'][10:].astype(datetime.datetime),\n",
    "         ((np.transpose(bt_model.predict(LSTM_test_inputs))+1) * test_set['bt_Close'].values[:-window_len])[0], \n",
    "         label='Predicted')\n",
    "ax1.annotate('MAE: %.4f'%np.mean(np.abs((np.transpose(bt_model.predict(LSTM_test_inputs))+1)-\\\n",
    "            (test_set['bt_Close'].values[window_len:])/(test_set['bt_Close'].values[:-window_len]))), \n",
    "             xy=(0.75, 0.9),  xycoords='axes fraction',\n",
    "            xytext=(0.75, 0.9), textcoords='axes fraction')\n",
    "ax1.set_title('Test Set: Single Timepoint Prediction',fontsize=13)\n",
    "ax1.set_ylabel('Bitcoin Price ($)',fontsize=12)\n",
    "ax1.legend(bbox_to_anchor=(0.1, 1), loc=2, borderaxespad=0., prop={'size': 14})\n",
    "plt.show()"
   ]
  },
  {
   "cell_type": "code",
   "execution_count": 122,
   "metadata": {},
   "outputs": [
    {
     "name": "stdout",
     "output_type": "stream",
     "text": [
      "775\n"
     ]
    },
    {
     "ename": "ImportError",
     "evalue": "`save_model` requires h5py.",
     "output_type": "error",
     "traceback": [
      "\u001b[0;31m---------------------------------------------------------------------------\u001b[0m",
      "\u001b[0;31mImportError\u001b[0m                               Traceback (most recent call last)",
      "\u001b[0;32m<ipython-input-122-21c5049e58ee>\u001b[0m in \u001b[0;36m<module>\u001b[0;34m()\u001b[0m\n\u001b[1;32m     15\u001b[0m                  \u001b[0;34m(\u001b[0m\u001b[0mtraining_set\u001b[0m\u001b[0;34m[\u001b[0m\u001b[0;34m'eth_Close'\u001b[0m\u001b[0;34m]\u001b[0m\u001b[0;34m[\u001b[0m\u001b[0mwindow_len\u001b[0m\u001b[0;34m:\u001b[0m\u001b[0;34m]\u001b[0m\u001b[0;34m.\u001b[0m\u001b[0mvalues\u001b[0m\u001b[0;34m/\u001b[0m\u001b[0mtraining_set\u001b[0m\u001b[0;34m[\u001b[0m\u001b[0;34m'eth_Close'\u001b[0m\u001b[0;34m]\u001b[0m\u001b[0;34m[\u001b[0m\u001b[0;34m:\u001b[0m\u001b[0;34m-\u001b[0m\u001b[0mwindow_len\u001b[0m\u001b[0;34m]\u001b[0m\u001b[0;34m.\u001b[0m\u001b[0mvalues\u001b[0m\u001b[0;34m)\u001b[0m\u001b[0;34m-\u001b[0m\u001b[0;36m1\u001b[0m\u001b[0;34m,\u001b[0m\u001b[0;34m\u001b[0m\u001b[0m\n\u001b[1;32m     16\u001b[0m                  epochs=50, batch_size=1, verbose=0, shuffle=True)\n\u001b[0;32m---> 17\u001b[0;31m     \u001b[0mtemp_model\u001b[0m\u001b[0;34m.\u001b[0m\u001b[0msave\u001b[0m\u001b[0;34m(\u001b[0m\u001b[0;34m'eth_model_randseed_%d.h5'\u001b[0m\u001b[0;34m%\u001b[0m\u001b[0mrand_seed\u001b[0m\u001b[0;34m)\u001b[0m\u001b[0;34m\u001b[0m\u001b[0m\n\u001b[0m\u001b[1;32m     18\u001b[0m     \u001b[0mtemp_model\u001b[0m \u001b[0;34m=\u001b[0m \u001b[0mbuild_model\u001b[0m\u001b[0;34m(\u001b[0m\u001b[0mLSTM_training_inputs\u001b[0m\u001b[0;34m,\u001b[0m \u001b[0moutput_size\u001b[0m\u001b[0;34m=\u001b[0m\u001b[0;36m1\u001b[0m\u001b[0;34m,\u001b[0m \u001b[0mneurons\u001b[0m \u001b[0;34m=\u001b[0m \u001b[0;36m20\u001b[0m\u001b[0;34m)\u001b[0m\u001b[0;34m\u001b[0m\u001b[0m\n\u001b[1;32m     19\u001b[0m     temp_model.fit(LSTM_training_inputs,\n",
      "\u001b[0;32m/home/dingu/anaconda2/envs/tensorflow/lib/python2.7/site-packages/keras/engine/topology.pyc\u001b[0m in \u001b[0;36msave\u001b[0;34m(self, filepath, overwrite, include_optimizer)\u001b[0m\n\u001b[1;32m   2578\u001b[0m         \"\"\"\n\u001b[1;32m   2579\u001b[0m         \u001b[0;32mfrom\u001b[0m \u001b[0;34m.\u001b[0m\u001b[0;34m.\u001b[0m\u001b[0mmodels\u001b[0m \u001b[0;32mimport\u001b[0m \u001b[0msave_model\u001b[0m\u001b[0;34m\u001b[0m\u001b[0m\n\u001b[0;32m-> 2580\u001b[0;31m         \u001b[0msave_model\u001b[0m\u001b[0;34m(\u001b[0m\u001b[0mself\u001b[0m\u001b[0;34m,\u001b[0m \u001b[0mfilepath\u001b[0m\u001b[0;34m,\u001b[0m \u001b[0moverwrite\u001b[0m\u001b[0;34m,\u001b[0m \u001b[0minclude_optimizer\u001b[0m\u001b[0;34m)\u001b[0m\u001b[0;34m\u001b[0m\u001b[0m\n\u001b[0m\u001b[1;32m   2581\u001b[0m \u001b[0;34m\u001b[0m\u001b[0m\n\u001b[1;32m   2582\u001b[0m     \u001b[0;32mdef\u001b[0m \u001b[0msave_weights\u001b[0m\u001b[0;34m(\u001b[0m\u001b[0mself\u001b[0m\u001b[0;34m,\u001b[0m \u001b[0mfilepath\u001b[0m\u001b[0;34m,\u001b[0m \u001b[0moverwrite\u001b[0m\u001b[0;34m=\u001b[0m\u001b[0mTrue\u001b[0m\u001b[0;34m)\u001b[0m\u001b[0;34m:\u001b[0m\u001b[0;34m\u001b[0m\u001b[0m\n",
      "\u001b[0;32m/home/dingu/anaconda2/envs/tensorflow/lib/python2.7/site-packages/keras/models.pyc\u001b[0m in \u001b[0;36msave_model\u001b[0;34m(model, filepath, overwrite, include_optimizer)\u001b[0m\n\u001b[1;32m     58\u001b[0m \u001b[0;34m\u001b[0m\u001b[0m\n\u001b[1;32m     59\u001b[0m     \u001b[0;32mif\u001b[0m \u001b[0mh5py\u001b[0m \u001b[0;32mis\u001b[0m \u001b[0mNone\u001b[0m\u001b[0;34m:\u001b[0m\u001b[0;34m\u001b[0m\u001b[0m\n\u001b[0;32m---> 60\u001b[0;31m         \u001b[0;32mraise\u001b[0m \u001b[0mImportError\u001b[0m\u001b[0;34m(\u001b[0m\u001b[0;34m'`save_model` requires h5py.'\u001b[0m\u001b[0;34m)\u001b[0m\u001b[0;34m\u001b[0m\u001b[0m\n\u001b[0m\u001b[1;32m     61\u001b[0m \u001b[0;34m\u001b[0m\u001b[0m\n\u001b[1;32m     62\u001b[0m     \u001b[0;32mdef\u001b[0m \u001b[0mget_json_type\u001b[0m\u001b[0;34m(\u001b[0m\u001b[0mobj\u001b[0m\u001b[0;34m)\u001b[0m\u001b[0;34m:\u001b[0m\u001b[0;34m\u001b[0m\u001b[0m\n",
      "\u001b[0;31mImportError\u001b[0m: `save_model` requires h5py."
     ]
    }
   ],
   "source": [
    "# recording time\n",
    "import time\n",
    "start_time = time.time()\n",
    "\n",
    "# warning: this cell may take some time to execute\n",
    "# this code builds 25 LSTM models for eth and bitcoin each (with 25 different initialisations)\n",
    "# the models are then saved so you hopefully only need to run this cell once\n",
    "\n",
    "# random seed for reproducibility\n",
    "for rand_seed in range(775,800):\n",
    "    print(rand_seed)\n",
    "    np.random.seed(rand_seed)\n",
    "    temp_model = build_model(LSTM_training_inputs, output_size=1, neurons = 20)\n",
    "    temp_model.fit(LSTM_training_inputs,\n",
    "                 (training_set['eth_Close'][window_len:].values/training_set['eth_Close'][:-window_len].values)-1,\n",
    "                 epochs=50, batch_size=1, verbose=0, shuffle=True)\n",
    "    temp_model.save('eth_model_randseed_%d.h5'%rand_seed)\n",
    "    temp_model = build_model(LSTM_training_inputs, output_size=1, neurons = 20)\n",
    "    temp_model.fit(LSTM_training_inputs,\n",
    "                 (training_set['bt_Close'][window_len:].values/training_set['bt_Close'][:-window_len].values)-1,\n",
    "                 epochs=50, batch_size=1, verbose=0, shuffle=True)\n",
    "    temp_model.save('bt_model_randseed_%d.h5'%rand_seed)\n",
    "    \n",
    "    \n",
    "end_time = time.time() - start_time\n",
    "print end_time"
   ]
  },
  {
   "cell_type": "code",
   "execution_count": null,
   "metadata": {},
   "outputs": [],
   "source": [
    "# assuming the previous cell was completed, this cell loads in the different initialisations\n",
    "# and calculates the average mean absolute error (mae)\n",
    "\n",
    "from keras.models import load_model\n",
    "\n",
    "eth_preds = []\n",
    "bt_preds = []\n",
    "for rand_seed in range(775,800):\n",
    "    temp_model = load_model('eth_model_randseed_%d.h5'%rand_seed)\n",
    "    eth_preds.append(np.mean(abs(np.transpose(temp_model.predict(LSTM_test_inputs))-\n",
    "                (test_set['eth_Close'].values[window_len:]/test_set['eth_Close'].values[:-window_len]-1))))\n",
    "    temp_model = load_model('bt_model_randseed_%d.h5'%rand_seed)\n",
    "    bt_preds.append(np.mean(abs(np.transpose(temp_model.predict(LSTM_test_inputs))-\n",
    "                (test_set['bt_Close'].values[window_len:]/test_set['bt_Close'].values[:-window_len]-1))))"
   ]
  },
  {
   "cell_type": "code",
   "execution_count": null,
   "metadata": {},
   "outputs": [],
   "source": [
    "eth_random_walk_preds = []\n",
    "bt_random_walk_preds = []\n",
    "for rand_seed in range(775,800):\n",
    "    np.random.seed(rand_seed)\n",
    "    eth_random_walk_preds.append(\n",
    "        np.mean(np.abs((np.random.normal(eth_r_walk_mean, eth_r_walk_sd, len(test_set)-window_len)+1)-\n",
    "                       np.array(test_set['eth_Close'][window_len:])/np.array(test_set['eth_Close'][:-window_len]))))\n",
    "    bt_random_walk_preds.append(\n",
    "    np.mean(np.abs((np.random.normal(bt_r_walk_mean, bt_r_walk_sd, len(test_set)-window_len)+1)-\n",
    "                       np.array(test_set['bt_Close'][window_len:])/np.array(test_set['bt_Close'][:-window_len]))))"
   ]
  },
  {
   "cell_type": "code",
   "execution_count": null,
   "metadata": {},
   "outputs": [],
   "source": [
    "fig, (ax1, ax2) = plt.subplots(1,2)\n",
    "ax1.boxplot([bt_preds, bt_random_walk_preds],widths=0.75)\n",
    "ax1.set_ylim([0, 0.2])\n",
    "ax2.boxplot([eth_preds, eth_random_walk_preds],widths=0.75)\n",
    "ax2.set_ylim([0, 0.2])\n",
    "ax1.set_xticklabels(['LSTM', 'Random Walk'])\n",
    "ax2.set_xticklabels(['LSTM', 'Random Walk'])\n",
    "ax1.set_title('Bitcoin Test Set (25 runs)')\n",
    "ax2.set_title('Ethereum Test Set (25 runs)')\n",
    "ax2.set_yticklabels('')\n",
    "ax1.set_ylabel('Mean Absolute Error (MAE)',fontsize=12)\n",
    "plt.show()"
   ]
  }
 ],
 "metadata": {
  "anaconda-cloud": {},
  "kernelspec": {
   "display_name": "Python 3",
   "language": "python",
   "name": "python3"
  },
  "language_info": {
   "codemirror_mode": {
    "name": "ipython",
    "version": 2
   },
   "file_extension": ".py",
   "mimetype": "text/x-python",
   "name": "python",
   "nbconvert_exporter": "python",
   "pygments_lexer": "ipython2",
   "version": "2.7.14"
  },
  "widgets": {
   "state": {
    "200ff45abb3b47f3ade09c6ce91695fb": {
     "views": [
      {
       "cell_index": 21
      }
     ]
    }
   },
   "version": "1.2.0"
  }
 },
 "nbformat": 4,
 "nbformat_minor": 1
}
